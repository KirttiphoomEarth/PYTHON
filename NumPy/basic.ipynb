{
 "cells": [
  {
   "cell_type": "code",
   "execution_count": 111,
   "metadata": {},
   "outputs": [],
   "source": [
    "import numpy as np"
   ]
  },
  {
   "cell_type": "code",
   "execution_count": 26,
   "metadata": {},
   "outputs": [
    {
     "name": "stdout",
     "output_type": "stream",
     "text": [
      "[1 2 3]\n"
     ]
    }
   ],
   "source": [
    "# one dimension\n",
    "lis = [1,2,3]\n",
    "tu = (1,2,3)\n",
    "arr = np.array(lis) #ndim for check dimension\n",
    "print(arr)"
   ]
  },
  {
   "cell_type": "code",
   "execution_count": 36,
   "metadata": {},
   "outputs": [
    {
     "name": "stdout",
     "output_type": "stream",
     "text": [
      "2\n"
     ]
    }
   ],
   "source": [
    "#two dimension\n",
    "arr2 = np.array([[1,2,3],[4,5,6]]) #[[row 1], [row 2], [row 3]]\n",
    "print(arr2.ndim)"
   ]
  },
  {
   "cell_type": "code",
   "execution_count": 49,
   "metadata": {},
   "outputs": [
    {
     "name": "stdout",
     "output_type": "stream",
     "text": [
      "21\n"
     ]
    }
   ],
   "source": [
    "#three dimension\n",
    "nested_list = [[[1, 2, 3, 4], [5, 6, 7, 8], [9, 10, 11, 12]],\n",
    "               [[13, 14, 15, 16], [17, 18, 19, 20], [21, 22, 23, 24]]]\n",
    "arr3 = np.array(nested_list)\n",
    "print(arr3[1][2][0])  #[dept][row][colum]"
   ]
  },
  {
   "cell_type": "code",
   "execution_count": 62,
   "metadata": {},
   "outputs": [
    {
     "name": "stdout",
     "output_type": "stream",
     "text": [
      "[1 2 3 4 5]\n"
     ]
    }
   ],
   "source": [
    "#data type\n",
    "Darr = np.array([1,2,3,4,5],dtype=\"int\")\n",
    "Darr.dtype\n",
    "print(Darr)"
   ]
  },
  {
   "cell_type": "code",
   "execution_count": 112,
   "metadata": {},
   "outputs": [
    {
     "name": "stdout",
     "output_type": "stream",
     "text": [
      "[[0.43649946 0.99950449]\n",
      " [0.28284918 0.76844381]]\n"
     ]
    }
   ],
   "source": [
    "#Create Matrix\n",
    "#---zero\n",
    "#arr_zero = np.zeros((3,4))\n",
    "\n",
    "#---one         \n",
    "#arr_one = np.ones((5,5))\n",
    "\n",
    "#---#(number,  value)           \n",
    "#arr_conts = np.full(2,10)\n",
    "\n",
    "#---Empty arr         \n",
    "#arr_emp = np.empty((3,4))  \n",
    "\n",
    "#---identity\n",
    "#arr_ide = np.identity(5, dtype=\"int\")   #row = colum \n",
    "#arr_ide = np.eye(6,4,k = 1)              # row != colum    \n",
    "\n",
    "#---random\n",
    "arr_ran = np.random.random((2,2)) #random 0 - 1\n",
    "print(arr_ran)"
   ]
  },
  {
   "cell_type": "code",
   "execution_count": 107,
   "metadata": {},
   "outputs": [
    {
     "name": "stdout",
     "output_type": "stream",
     "text": [
      "[1 3 5 7 9]\n"
     ]
    }
   ],
   "source": [
    "#linspace กำหนดช่วง\n",
    "#arr_l = np.linspace(1, 5, 10, dtype=\"int\") #(start, stop, size)\n",
    "\n",
    "#araneg\n",
    "arr_l = np.arange(1, 10, 2) #(start, stop, step)\n",
    "print(arr_l)"
   ]
  },
  {
   "cell_type": "code",
   "execution_count": 122,
   "metadata": {},
   "outputs": [
    {
     "name": "stdout",
     "output_type": "stream",
     "text": [
      "4\n"
     ]
    }
   ],
   "source": [
    "#Attribute \n",
    "#ndim\n",
    "#dtype\n",
    "#shape\n",
    "#size\n",
    "#itemsize = bytes\n",
    "arr_1d = np.array((1,2,3))\n",
    "arr_2d = np.array(((1,2,3), (1,2,3)))\n",
    "print(arr_2d.itemsize)"
   ]
  },
  {
   "cell_type": "code",
   "execution_count": 128,
   "metadata": {},
   "outputs": [
    {
     "name": "stdout",
     "output_type": "stream",
     "text": [
      "[2 3]\n"
     ]
    }
   ],
   "source": [
    "#Slice\n",
    "arr_t = np.array((1,2,3,4,5))\n"
   ]
  }
 ],
 "metadata": {
  "kernelspec": {
   "display_name": "Python 3.9.6 64-bit",
   "language": "python",
   "name": "python3"
  },
  "language_info": {
   "codemirror_mode": {
    "name": "ipython",
    "version": 3
   },
   "file_extension": ".py",
   "mimetype": "text/x-python",
   "name": "python",
   "nbconvert_exporter": "python",
   "pygments_lexer": "ipython3",
   "version": "3.9.6"
  },
  "orig_nbformat": 4,
  "vscode": {
   "interpreter": {
    "hash": "42856d35172da200511774a3b55d8dda654981b3ec807a5501c214b77ebef7a2"
   }
  }
 },
 "nbformat": 4,
 "nbformat_minor": 2
}
