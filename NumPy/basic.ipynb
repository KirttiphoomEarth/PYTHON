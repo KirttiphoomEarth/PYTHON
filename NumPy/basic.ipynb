{
 "cells": [
  {
   "cell_type": "code",
   "execution_count": 4,
   "metadata": {},
   "outputs": [],
   "source": [
    "import numpy as np"
   ]
  },
  {
   "cell_type": "code",
   "execution_count": 26,
   "metadata": {},
   "outputs": [
    {
     "name": "stdout",
     "output_type": "stream",
     "text": [
      "[1 2 3]\n"
     ]
    }
   ],
   "source": [
    "# one dimension\n",
    "lis = [1,2,3]\n",
    "tu = (1,2,3)\n",
    "arr = np.array(lis) #ndim for check dimension\n",
    "print(arr)"
   ]
  },
  {
   "cell_type": "code",
   "execution_count": 36,
   "metadata": {},
   "outputs": [
    {
     "name": "stdout",
     "output_type": "stream",
     "text": [
      "2\n"
     ]
    }
   ],
   "source": [
    "#two dimension\n",
    "arr2 = np.array([[1,2,3],[4,5,6]]) #[[row 1], [row 2], [row 3]]\n",
    "print(arr2.ndim)"
   ]
  },
  {
   "cell_type": "code",
   "execution_count": 49,
   "metadata": {},
   "outputs": [
    {
     "name": "stdout",
     "output_type": "stream",
     "text": [
      "21\n"
     ]
    }
   ],
   "source": [
    "#three dimension\n",
    "nested_list = [[[1, 2, 3, 4], [5, 6, 7, 8], [9, 10, 11, 12]],\n",
    "               [[13, 14, 15, 16], [17, 18, 19, 20], [21, 22, 23, 24]]]\n",
    "arr3 = np.array(nested_list)\n",
    "print(arr3[1][2][0])  #[dept][row][colum]"
   ]
  },
  {
   "cell_type": "code",
   "execution_count": 62,
   "metadata": {},
   "outputs": [
    {
     "name": "stdout",
     "output_type": "stream",
     "text": [
      "[1 2 3 4 5]\n"
     ]
    }
   ],
   "source": [
    "#data type\n",
    "Darr = np.array([1,2,3,4,5],dtype=\"int\")\n",
    "Darr.dtype\n",
    "print(Darr)"
   ]
  },
  {
   "cell_type": "code",
   "execution_count": 82,
   "metadata": {},
   "outputs": [
    {
     "name": "stdout",
     "output_type": "stream",
     "text": [
      "[[0. 0. 0. 0.]\n",
      " [0. 0. 0. 0.]\n",
      " [0. 0. 0. 0.]]\n"
     ]
    }
   ],
   "source": [
    "#Create Matrix\n",
    "#---zero\n",
    "#arr_zero = np.zeros((3,4))\n",
    "\n",
    "#---one         \n",
    "#arr_one = np.ones((5,5))\n",
    "\n",
    "#---#(number,  value)           \n",
    "#arr_conts = np.full(2,10)\n",
    "\n",
    "#---Empty arr         \n",
    "#arr_emp = np.empty((3,4))  \n",
    "\n",
    "#identity        \n",
    "print(arr_emp)"
   ]
  }
 ],
 "metadata": {
  "kernelspec": {
   "display_name": "Python 3.9.6 64-bit",
   "language": "python",
   "name": "python3"
  },
  "language_info": {
   "codemirror_mode": {
    "name": "ipython",
    "version": 3
   },
   "file_extension": ".py",
   "mimetype": "text/x-python",
   "name": "python",
   "nbconvert_exporter": "python",
   "pygments_lexer": "ipython3",
   "version": "3.9.6"
  },
  "orig_nbformat": 4,
  "vscode": {
   "interpreter": {
    "hash": "42856d35172da200511774a3b55d8dda654981b3ec807a5501c214b77ebef7a2"
   }
  }
 },
 "nbformat": 4,
 "nbformat_minor": 2
}
